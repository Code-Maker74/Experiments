{
  "nbformat": 4,
  "nbformat_minor": 0,
  "metadata": {
    "colab": {
      "name": "MNIST_Dataset.ipynb",
      "provenance": [],
      "collapsed_sections": []
    },
    "kernelspec": {
      "name": "python3",
      "display_name": "Python 3"
    }
  },
  "cells": [
    {
      "cell_type": "markdown",
      "metadata": {
        "id": "evW-Q8wsTSZ8",
        "colab_type": "text"
      },
      "source": [
        "#Experimenting on <font color = \"red\"><u>*MNIST*</u> </font> dataset !"
      ]
    },
    {
      "cell_type": "code",
      "metadata": {
        "id": "qIBrMoW-6-Eh",
        "colab_type": "code",
        "colab": {}
      },
      "source": [
        "import numpy as np\n",
        "import pandas as pd\n",
        "import matplotlib as mlt\n",
        "import matplotlib.pyplot as plt \n",
        "import time"
      ],
      "execution_count": null,
      "outputs": []
    },
    {
      "cell_type": "markdown",
      "metadata": {
        "id": "xbK262kVT5pG",
        "colab_type": "text"
      },
      "source": [
        "**As MNIST is already concluded in Google Colab's datasets' list we can upload it just mentioning the path**"
      ]
    },
    {
      "cell_type": "code",
      "metadata": {
        "id": "5mFdY4zl60Gk",
        "colab_type": "code",
        "colab": {
          "base_uri": "https://localhost:8080/",
          "height": 51
        },
        "outputId": "5b04fbb6-29c7-4382-dbb5-a68a085ab335"
      },
      "source": [
        "mnist_train = pd.read_csv('sample_data/mnist_train_small.csv', header=None)\n",
        "mnist_test = pd.read_csv('sample_data/mnist_test.csv', header=None)\n",
        "\n",
        "print(\"Train:\", mnist_train.shape)\n",
        "print(\"Test:\", mnist_test.shape)"
      ],
      "execution_count": null,
      "outputs": [
        {
          "output_type": "stream",
          "text": [
            "Train: (20000, 785)\n",
            "Test: (10000, 785)\n"
          ],
          "name": "stdout"
        }
      ]
    },
    {
      "cell_type": "code",
      "metadata": {
        "id": "YDuhXK8rMFEu",
        "colab_type": "code",
        "colab": {
          "base_uri": "https://localhost:8080/",
          "height": 253
        },
        "outputId": "2c44253d-24c2-4a50-c347-5b54281136ce"
      },
      "source": [
        "mnist_test.head()"
      ],
      "execution_count": null,
      "outputs": [
        {
          "output_type": "execute_result",
          "data": {
            "text/html": [
              "<div>\n",
              "<style scoped>\n",
              "    .dataframe tbody tr th:only-of-type {\n",
              "        vertical-align: middle;\n",
              "    }\n",
              "\n",
              "    .dataframe tbody tr th {\n",
              "        vertical-align: top;\n",
              "    }\n",
              "\n",
              "    .dataframe thead th {\n",
              "        text-align: right;\n",
              "    }\n",
              "</style>\n",
              "<table border=\"1\" class=\"dataframe\">\n",
              "  <thead>\n",
              "    <tr style=\"text-align: right;\">\n",
              "      <th></th>\n",
              "      <th>0</th>\n",
              "      <th>1</th>\n",
              "      <th>2</th>\n",
              "      <th>3</th>\n",
              "      <th>4</th>\n",
              "      <th>5</th>\n",
              "      <th>6</th>\n",
              "      <th>7</th>\n",
              "      <th>8</th>\n",
              "      <th>9</th>\n",
              "      <th>10</th>\n",
              "      <th>11</th>\n",
              "      <th>12</th>\n",
              "      <th>13</th>\n",
              "      <th>14</th>\n",
              "      <th>15</th>\n",
              "      <th>16</th>\n",
              "      <th>17</th>\n",
              "      <th>18</th>\n",
              "      <th>19</th>\n",
              "      <th>20</th>\n",
              "      <th>21</th>\n",
              "      <th>22</th>\n",
              "      <th>23</th>\n",
              "      <th>24</th>\n",
              "      <th>25</th>\n",
              "      <th>26</th>\n",
              "      <th>27</th>\n",
              "      <th>28</th>\n",
              "      <th>29</th>\n",
              "      <th>30</th>\n",
              "      <th>31</th>\n",
              "      <th>32</th>\n",
              "      <th>33</th>\n",
              "      <th>34</th>\n",
              "      <th>35</th>\n",
              "      <th>36</th>\n",
              "      <th>37</th>\n",
              "      <th>38</th>\n",
              "      <th>39</th>\n",
              "      <th>...</th>\n",
              "      <th>745</th>\n",
              "      <th>746</th>\n",
              "      <th>747</th>\n",
              "      <th>748</th>\n",
              "      <th>749</th>\n",
              "      <th>750</th>\n",
              "      <th>751</th>\n",
              "      <th>752</th>\n",
              "      <th>753</th>\n",
              "      <th>754</th>\n",
              "      <th>755</th>\n",
              "      <th>756</th>\n",
              "      <th>757</th>\n",
              "      <th>758</th>\n",
              "      <th>759</th>\n",
              "      <th>760</th>\n",
              "      <th>761</th>\n",
              "      <th>762</th>\n",
              "      <th>763</th>\n",
              "      <th>764</th>\n",
              "      <th>765</th>\n",
              "      <th>766</th>\n",
              "      <th>767</th>\n",
              "      <th>768</th>\n",
              "      <th>769</th>\n",
              "      <th>770</th>\n",
              "      <th>771</th>\n",
              "      <th>772</th>\n",
              "      <th>773</th>\n",
              "      <th>774</th>\n",
              "      <th>775</th>\n",
              "      <th>776</th>\n",
              "      <th>777</th>\n",
              "      <th>778</th>\n",
              "      <th>779</th>\n",
              "      <th>780</th>\n",
              "      <th>781</th>\n",
              "      <th>782</th>\n",
              "      <th>783</th>\n",
              "      <th>784</th>\n",
              "    </tr>\n",
              "  </thead>\n",
              "  <tbody>\n",
              "    <tr>\n",
              "      <th>0</th>\n",
              "      <td>7</td>\n",
              "      <td>0</td>\n",
              "      <td>0</td>\n",
              "      <td>0</td>\n",
              "      <td>0</td>\n",
              "      <td>0</td>\n",
              "      <td>0</td>\n",
              "      <td>0</td>\n",
              "      <td>0</td>\n",
              "      <td>0</td>\n",
              "      <td>0</td>\n",
              "      <td>0</td>\n",
              "      <td>0</td>\n",
              "      <td>0</td>\n",
              "      <td>0</td>\n",
              "      <td>0</td>\n",
              "      <td>0</td>\n",
              "      <td>0</td>\n",
              "      <td>0</td>\n",
              "      <td>0</td>\n",
              "      <td>0</td>\n",
              "      <td>0</td>\n",
              "      <td>0</td>\n",
              "      <td>0</td>\n",
              "      <td>0</td>\n",
              "      <td>0</td>\n",
              "      <td>0</td>\n",
              "      <td>0</td>\n",
              "      <td>0</td>\n",
              "      <td>0</td>\n",
              "      <td>0</td>\n",
              "      <td>0</td>\n",
              "      <td>0</td>\n",
              "      <td>0</td>\n",
              "      <td>0</td>\n",
              "      <td>0</td>\n",
              "      <td>0</td>\n",
              "      <td>0</td>\n",
              "      <td>0</td>\n",
              "      <td>0</td>\n",
              "      <td>...</td>\n",
              "      <td>0</td>\n",
              "      <td>0</td>\n",
              "      <td>0</td>\n",
              "      <td>0</td>\n",
              "      <td>0</td>\n",
              "      <td>0</td>\n",
              "      <td>0</td>\n",
              "      <td>0</td>\n",
              "      <td>0</td>\n",
              "      <td>0</td>\n",
              "      <td>0</td>\n",
              "      <td>0</td>\n",
              "      <td>0</td>\n",
              "      <td>0</td>\n",
              "      <td>0</td>\n",
              "      <td>0</td>\n",
              "      <td>0</td>\n",
              "      <td>0</td>\n",
              "      <td>0</td>\n",
              "      <td>0</td>\n",
              "      <td>0</td>\n",
              "      <td>0</td>\n",
              "      <td>0</td>\n",
              "      <td>0</td>\n",
              "      <td>0</td>\n",
              "      <td>0</td>\n",
              "      <td>0</td>\n",
              "      <td>0</td>\n",
              "      <td>0</td>\n",
              "      <td>0</td>\n",
              "      <td>0</td>\n",
              "      <td>0</td>\n",
              "      <td>0</td>\n",
              "      <td>0</td>\n",
              "      <td>0</td>\n",
              "      <td>0</td>\n",
              "      <td>0</td>\n",
              "      <td>0</td>\n",
              "      <td>0</td>\n",
              "      <td>0</td>\n",
              "    </tr>\n",
              "    <tr>\n",
              "      <th>1</th>\n",
              "      <td>2</td>\n",
              "      <td>0</td>\n",
              "      <td>0</td>\n",
              "      <td>0</td>\n",
              "      <td>0</td>\n",
              "      <td>0</td>\n",
              "      <td>0</td>\n",
              "      <td>0</td>\n",
              "      <td>0</td>\n",
              "      <td>0</td>\n",
              "      <td>0</td>\n",
              "      <td>0</td>\n",
              "      <td>0</td>\n",
              "      <td>0</td>\n",
              "      <td>0</td>\n",
              "      <td>0</td>\n",
              "      <td>0</td>\n",
              "      <td>0</td>\n",
              "      <td>0</td>\n",
              "      <td>0</td>\n",
              "      <td>0</td>\n",
              "      <td>0</td>\n",
              "      <td>0</td>\n",
              "      <td>0</td>\n",
              "      <td>0</td>\n",
              "      <td>0</td>\n",
              "      <td>0</td>\n",
              "      <td>0</td>\n",
              "      <td>0</td>\n",
              "      <td>0</td>\n",
              "      <td>0</td>\n",
              "      <td>0</td>\n",
              "      <td>0</td>\n",
              "      <td>0</td>\n",
              "      <td>0</td>\n",
              "      <td>0</td>\n",
              "      <td>0</td>\n",
              "      <td>0</td>\n",
              "      <td>0</td>\n",
              "      <td>0</td>\n",
              "      <td>...</td>\n",
              "      <td>0</td>\n",
              "      <td>0</td>\n",
              "      <td>0</td>\n",
              "      <td>0</td>\n",
              "      <td>0</td>\n",
              "      <td>0</td>\n",
              "      <td>0</td>\n",
              "      <td>0</td>\n",
              "      <td>0</td>\n",
              "      <td>0</td>\n",
              "      <td>0</td>\n",
              "      <td>0</td>\n",
              "      <td>0</td>\n",
              "      <td>0</td>\n",
              "      <td>0</td>\n",
              "      <td>0</td>\n",
              "      <td>0</td>\n",
              "      <td>0</td>\n",
              "      <td>0</td>\n",
              "      <td>0</td>\n",
              "      <td>0</td>\n",
              "      <td>0</td>\n",
              "      <td>0</td>\n",
              "      <td>0</td>\n",
              "      <td>0</td>\n",
              "      <td>0</td>\n",
              "      <td>0</td>\n",
              "      <td>0</td>\n",
              "      <td>0</td>\n",
              "      <td>0</td>\n",
              "      <td>0</td>\n",
              "      <td>0</td>\n",
              "      <td>0</td>\n",
              "      <td>0</td>\n",
              "      <td>0</td>\n",
              "      <td>0</td>\n",
              "      <td>0</td>\n",
              "      <td>0</td>\n",
              "      <td>0</td>\n",
              "      <td>0</td>\n",
              "    </tr>\n",
              "    <tr>\n",
              "      <th>2</th>\n",
              "      <td>1</td>\n",
              "      <td>0</td>\n",
              "      <td>0</td>\n",
              "      <td>0</td>\n",
              "      <td>0</td>\n",
              "      <td>0</td>\n",
              "      <td>0</td>\n",
              "      <td>0</td>\n",
              "      <td>0</td>\n",
              "      <td>0</td>\n",
              "      <td>0</td>\n",
              "      <td>0</td>\n",
              "      <td>0</td>\n",
              "      <td>0</td>\n",
              "      <td>0</td>\n",
              "      <td>0</td>\n",
              "      <td>0</td>\n",
              "      <td>0</td>\n",
              "      <td>0</td>\n",
              "      <td>0</td>\n",
              "      <td>0</td>\n",
              "      <td>0</td>\n",
              "      <td>0</td>\n",
              "      <td>0</td>\n",
              "      <td>0</td>\n",
              "      <td>0</td>\n",
              "      <td>0</td>\n",
              "      <td>0</td>\n",
              "      <td>0</td>\n",
              "      <td>0</td>\n",
              "      <td>0</td>\n",
              "      <td>0</td>\n",
              "      <td>0</td>\n",
              "      <td>0</td>\n",
              "      <td>0</td>\n",
              "      <td>0</td>\n",
              "      <td>0</td>\n",
              "      <td>0</td>\n",
              "      <td>0</td>\n",
              "      <td>0</td>\n",
              "      <td>...</td>\n",
              "      <td>0</td>\n",
              "      <td>0</td>\n",
              "      <td>0</td>\n",
              "      <td>0</td>\n",
              "      <td>0</td>\n",
              "      <td>0</td>\n",
              "      <td>0</td>\n",
              "      <td>0</td>\n",
              "      <td>0</td>\n",
              "      <td>0</td>\n",
              "      <td>0</td>\n",
              "      <td>0</td>\n",
              "      <td>0</td>\n",
              "      <td>0</td>\n",
              "      <td>0</td>\n",
              "      <td>0</td>\n",
              "      <td>0</td>\n",
              "      <td>0</td>\n",
              "      <td>0</td>\n",
              "      <td>0</td>\n",
              "      <td>0</td>\n",
              "      <td>0</td>\n",
              "      <td>0</td>\n",
              "      <td>0</td>\n",
              "      <td>0</td>\n",
              "      <td>0</td>\n",
              "      <td>0</td>\n",
              "      <td>0</td>\n",
              "      <td>0</td>\n",
              "      <td>0</td>\n",
              "      <td>0</td>\n",
              "      <td>0</td>\n",
              "      <td>0</td>\n",
              "      <td>0</td>\n",
              "      <td>0</td>\n",
              "      <td>0</td>\n",
              "      <td>0</td>\n",
              "      <td>0</td>\n",
              "      <td>0</td>\n",
              "      <td>0</td>\n",
              "    </tr>\n",
              "    <tr>\n",
              "      <th>3</th>\n",
              "      <td>0</td>\n",
              "      <td>0</td>\n",
              "      <td>0</td>\n",
              "      <td>0</td>\n",
              "      <td>0</td>\n",
              "      <td>0</td>\n",
              "      <td>0</td>\n",
              "      <td>0</td>\n",
              "      <td>0</td>\n",
              "      <td>0</td>\n",
              "      <td>0</td>\n",
              "      <td>0</td>\n",
              "      <td>0</td>\n",
              "      <td>0</td>\n",
              "      <td>0</td>\n",
              "      <td>0</td>\n",
              "      <td>0</td>\n",
              "      <td>0</td>\n",
              "      <td>0</td>\n",
              "      <td>0</td>\n",
              "      <td>0</td>\n",
              "      <td>0</td>\n",
              "      <td>0</td>\n",
              "      <td>0</td>\n",
              "      <td>0</td>\n",
              "      <td>0</td>\n",
              "      <td>0</td>\n",
              "      <td>0</td>\n",
              "      <td>0</td>\n",
              "      <td>0</td>\n",
              "      <td>0</td>\n",
              "      <td>0</td>\n",
              "      <td>0</td>\n",
              "      <td>0</td>\n",
              "      <td>0</td>\n",
              "      <td>0</td>\n",
              "      <td>0</td>\n",
              "      <td>0</td>\n",
              "      <td>0</td>\n",
              "      <td>0</td>\n",
              "      <td>...</td>\n",
              "      <td>0</td>\n",
              "      <td>0</td>\n",
              "      <td>0</td>\n",
              "      <td>0</td>\n",
              "      <td>0</td>\n",
              "      <td>0</td>\n",
              "      <td>0</td>\n",
              "      <td>0</td>\n",
              "      <td>0</td>\n",
              "      <td>0</td>\n",
              "      <td>0</td>\n",
              "      <td>0</td>\n",
              "      <td>0</td>\n",
              "      <td>0</td>\n",
              "      <td>0</td>\n",
              "      <td>0</td>\n",
              "      <td>0</td>\n",
              "      <td>0</td>\n",
              "      <td>0</td>\n",
              "      <td>0</td>\n",
              "      <td>0</td>\n",
              "      <td>0</td>\n",
              "      <td>0</td>\n",
              "      <td>0</td>\n",
              "      <td>0</td>\n",
              "      <td>0</td>\n",
              "      <td>0</td>\n",
              "      <td>0</td>\n",
              "      <td>0</td>\n",
              "      <td>0</td>\n",
              "      <td>0</td>\n",
              "      <td>0</td>\n",
              "      <td>0</td>\n",
              "      <td>0</td>\n",
              "      <td>0</td>\n",
              "      <td>0</td>\n",
              "      <td>0</td>\n",
              "      <td>0</td>\n",
              "      <td>0</td>\n",
              "      <td>0</td>\n",
              "    </tr>\n",
              "    <tr>\n",
              "      <th>4</th>\n",
              "      <td>4</td>\n",
              "      <td>0</td>\n",
              "      <td>0</td>\n",
              "      <td>0</td>\n",
              "      <td>0</td>\n",
              "      <td>0</td>\n",
              "      <td>0</td>\n",
              "      <td>0</td>\n",
              "      <td>0</td>\n",
              "      <td>0</td>\n",
              "      <td>0</td>\n",
              "      <td>0</td>\n",
              "      <td>0</td>\n",
              "      <td>0</td>\n",
              "      <td>0</td>\n",
              "      <td>0</td>\n",
              "      <td>0</td>\n",
              "      <td>0</td>\n",
              "      <td>0</td>\n",
              "      <td>0</td>\n",
              "      <td>0</td>\n",
              "      <td>0</td>\n",
              "      <td>0</td>\n",
              "      <td>0</td>\n",
              "      <td>0</td>\n",
              "      <td>0</td>\n",
              "      <td>0</td>\n",
              "      <td>0</td>\n",
              "      <td>0</td>\n",
              "      <td>0</td>\n",
              "      <td>0</td>\n",
              "      <td>0</td>\n",
              "      <td>0</td>\n",
              "      <td>0</td>\n",
              "      <td>0</td>\n",
              "      <td>0</td>\n",
              "      <td>0</td>\n",
              "      <td>0</td>\n",
              "      <td>0</td>\n",
              "      <td>0</td>\n",
              "      <td>...</td>\n",
              "      <td>0</td>\n",
              "      <td>0</td>\n",
              "      <td>0</td>\n",
              "      <td>0</td>\n",
              "      <td>0</td>\n",
              "      <td>0</td>\n",
              "      <td>0</td>\n",
              "      <td>0</td>\n",
              "      <td>0</td>\n",
              "      <td>0</td>\n",
              "      <td>0</td>\n",
              "      <td>0</td>\n",
              "      <td>0</td>\n",
              "      <td>0</td>\n",
              "      <td>0</td>\n",
              "      <td>0</td>\n",
              "      <td>0</td>\n",
              "      <td>0</td>\n",
              "      <td>0</td>\n",
              "      <td>0</td>\n",
              "      <td>0</td>\n",
              "      <td>0</td>\n",
              "      <td>0</td>\n",
              "      <td>0</td>\n",
              "      <td>0</td>\n",
              "      <td>0</td>\n",
              "      <td>0</td>\n",
              "      <td>0</td>\n",
              "      <td>0</td>\n",
              "      <td>0</td>\n",
              "      <td>0</td>\n",
              "      <td>0</td>\n",
              "      <td>0</td>\n",
              "      <td>0</td>\n",
              "      <td>0</td>\n",
              "      <td>0</td>\n",
              "      <td>0</td>\n",
              "      <td>0</td>\n",
              "      <td>0</td>\n",
              "      <td>0</td>\n",
              "    </tr>\n",
              "  </tbody>\n",
              "</table>\n",
              "<p>5 rows × 785 columns</p>\n",
              "</div>"
            ],
            "text/plain": [
              "   0    1    2    3    4    5    6    ...  778  779  780  781  782  783  784\n",
              "0    7    0    0    0    0    0    0  ...    0    0    0    0    0    0    0\n",
              "1    2    0    0    0    0    0    0  ...    0    0    0    0    0    0    0\n",
              "2    1    0    0    0    0    0    0  ...    0    0    0    0    0    0    0\n",
              "3    0    0    0    0    0    0    0  ...    0    0    0    0    0    0    0\n",
              "4    4    0    0    0    0    0    0  ...    0    0    0    0    0    0    0\n",
              "\n",
              "[5 rows x 785 columns]"
            ]
          },
          "metadata": {
            "tags": []
          },
          "execution_count": 4
        }
      ]
    },
    {
      "cell_type": "markdown",
      "metadata": {
        "id": "C0J71cJ8UTsp",
        "colab_type": "text"
      },
      "source": [
        "##Let's <ins><font color = 'pytgtvgrsd'>*visualize*</ins></font> some data !"
      ]
    },
    {
      "cell_type": "markdown",
      "metadata": {
        "id": "Dp6jEPLqU-7x",
        "colab_type": "text"
      },
      "source": [
        "Firstly, we need a <font color= \"jeir4ewtgtteeeeggrroeji\">function</font> that would convert pixels into an image !"
      ]
    },
    {
      "cell_type": "code",
      "metadata": {
        "id": "UxnkndYfMQk1",
        "colab_type": "code",
        "colab": {}
      },
      "source": [
        "def pixel_to_image(pixels):\n",
        "  image = np.array(pixels, dtype = \"float\")\n",
        "  pixel = image.reshape((28,28))\n",
        "  plt.imshow(pixel, cmap = \"gray\")\n"
      ],
      "execution_count": null,
      "outputs": []
    },
    {
      "cell_type": "markdown",
      "metadata": {
        "id": "ExVbMsXyV1xQ",
        "colab_type": "text"
      },
      "source": [
        "Then we need to create some <font color = \"dfiujhjhfhdf\">subplots</font> to visualize multiple images at once "
      ]
    },
    {
      "cell_type": "code",
      "metadata": {
        "id": "sjv5jQKkM2Vl",
        "colab_type": "code",
        "colab": {
          "base_uri": "https://localhost:8080/",
          "height": 486
        },
        "outputId": "7bc4daf1-caab-4587-ca02-496e7a75b19e"
      },
      "source": [
        "fig = plt.figure(figsize = (8,8))\n",
        "cols, rows = 6,6\n",
        "for i in range(1,cols*rows+1):\n",
        "  fig.add_subplot(rows, cols, i)\n",
        "  pixel_to_image(mnist_train.iloc[i**2, 1:])"
      ],
      "execution_count": null,
      "outputs": [
        {
          "output_type": "display_data",
          "data": {
            "image/png": "[encoded data removed]",
            "text/plain": [
              "<Figure size 576x576 with 36 Axes>"
            ]
          },
          "metadata": {
            "tags": [],
            "needs_background": "light"
          }
        }
      ]
    },
    {
      "cell_type": "markdown",
      "metadata": {
        "id": "xRSACtUVWTHC",
        "colab_type": "text"
      },
      "source": [
        "Another bunch of images just for fun ))"
      ]
    },
    {
      "cell_type": "code",
      "metadata": {
        "id": "8Li93SeoPBN4",
        "colab_type": "code",
        "colab": {
          "base_uri": "https://localhost:8080/",
          "height": 268
        },
        "outputId": "8be1307a-0dc8-45c6-a584-b7be6e7d9dcc"
      },
      "source": [
        "def pixel_to_image(pixels):\n",
        "  image = np.array(pixels, dtype = \"float\")\n",
        "  pixel = image.reshape((28,28))\n",
        "  plt.imshow(pixel) # without gray scale \n",
        "for i in range(1, 17):\n",
        "  plt.subplot(4,4,i)\n",
        "  pixel_to_image(mnist_train.iloc[i*2+66, 1:])  # starting from 1: because 0th col is the label "
      ],
      "execution_count": null,
      "outputs": [
        {
          "output_type": "display_data",
          "data": {
            "image/png": "[encoded data removed]",
            "text/plain": [
              "<Figure size 432x288 with 16 Axes>"
            ]
          },
          "metadata": {
            "tags": [],
            "needs_background": "light"
          }
        }
      ]
    },
    {
      "cell_type": "code",
      "metadata": {
        "id": "uPxjpUosP-VB",
        "colab_type": "code",
        "colab": {
          "base_uri": "https://localhost:8080/",
          "height": 253
        },
        "outputId": "f569fdea-d9ed-475b-d336-b0e533b8d8cd"
      },
      "source": [
        "X_train, X_test, y_train, y_test = mnist_train.iloc[:, 1:], mnist_test.iloc[:, 1:], mnist_train.iloc[:, 0], mnist_test.iloc[:, 0]\n",
        "from sklearn.model_selection import GridSearchCV\n",
        "from sklearn.svm import SVC \n",
        "from sklearn.naive_bayes import MultinomialNB, BernoulliNB\n",
        "from sklearn.tree import DecisionTreeClassifier\n",
        "X_train.head()"
      ],
      "execution_count": null,
      "outputs": [
        {
          "output_type": "execute_result",
          "data": {
            "text/html": [
              "<div>\n",
              "<style scoped>\n",
              "    .dataframe tbody tr th:only-of-type {\n",
              "        vertical-align: middle;\n",
              "    }\n",
              "\n",
              "    .dataframe tbody tr th {\n",
              "        vertical-align: top;\n",
              "    }\n",
              "\n",
              "    .dataframe thead th {\n",
              "        text-align: right;\n",
              "    }\n",
              "</style>\n",
              "<table border=\"1\" class=\"dataframe\">\n",
              "  <thead>\n",
              "    <tr style=\"text-align: right;\">\n",
              "      <th></th>\n",
              "      <th>1</th>\n",
              "      <th>2</th>\n",
              "      <th>3</th>\n",
              "      <th>4</th>\n",
              "      <th>5</th>\n",
              "      <th>6</th>\n",
              "      <th>7</th>\n",
              "      <th>8</th>\n",
              "      <th>9</th>\n",
              "      <th>10</th>\n",
              "      <th>11</th>\n",
              "      <th>12</th>\n",
              "      <th>13</th>\n",
              "      <th>14</th>\n",
              "      <th>15</th>\n",
              "      <th>16</th>\n",
              "      <th>17</th>\n",
              "      <th>18</th>\n",
              "      <th>19</th>\n",
              "      <th>20</th>\n",
              "      <th>21</th>\n",
              "      <th>22</th>\n",
              "      <th>23</th>\n",
              "      <th>24</th>\n",
              "      <th>25</th>\n",
              "      <th>26</th>\n",
              "      <th>27</th>\n",
              "      <th>28</th>\n",
              "      <th>29</th>\n",
              "      <th>30</th>\n",
              "      <th>31</th>\n",
              "      <th>32</th>\n",
              "      <th>33</th>\n",
              "      <th>34</th>\n",
              "      <th>35</th>\n",
              "      <th>36</th>\n",
              "      <th>37</th>\n",
              "      <th>38</th>\n",
              "      <th>39</th>\n",
              "      <th>40</th>\n",
              "      <th>...</th>\n",
              "      <th>745</th>\n",
              "      <th>746</th>\n",
              "      <th>747</th>\n",
              "      <th>748</th>\n",
              "      <th>749</th>\n",
              "      <th>750</th>\n",
              "      <th>751</th>\n",
              "      <th>752</th>\n",
              "      <th>753</th>\n",
              "      <th>754</th>\n",
              "      <th>755</th>\n",
              "      <th>756</th>\n",
              "      <th>757</th>\n",
              "      <th>758</th>\n",
              "      <th>759</th>\n",
              "      <th>760</th>\n",
              "      <th>761</th>\n",
              "      <th>762</th>\n",
              "      <th>763</th>\n",
              "      <th>764</th>\n",
              "      <th>765</th>\n",
              "      <th>766</th>\n",
              "      <th>767</th>\n",
              "      <th>768</th>\n",
              "      <th>769</th>\n",
              "      <th>770</th>\n",
              "      <th>771</th>\n",
              "      <th>772</th>\n",
              "      <th>773</th>\n",
              "      <th>774</th>\n",
              "      <th>775</th>\n",
              "      <th>776</th>\n",
              "      <th>777</th>\n",
              "      <th>778</th>\n",
              "      <th>779</th>\n",
              "      <th>780</th>\n",
              "      <th>781</th>\n",
              "      <th>782</th>\n",
              "      <th>783</th>\n",
              "      <th>784</th>\n",
              "    </tr>\n",
              "  </thead>\n",
              "  <tbody>\n",
              "    <tr>\n",
              "      <th>0</th>\n",
              "      <td>0</td>\n",
              "      <td>0</td>\n",
              "      <td>0</td>\n",
              "      <td>0</td>\n",
              "      <td>0</td>\n",
              "      <td>0</td>\n",
              "      <td>0</td>\n",
              "      <td>0</td>\n",
              "      <td>0</td>\n",
              "      <td>0</td>\n",
              "      <td>0</td>\n",
              "      <td>0</td>\n",
              "      <td>0</td>\n",
              "      <td>0</td>\n",
              "      <td>0</td>\n",
              "      <td>0</td>\n",
              "      <td>0</td>\n",
              "      <td>0</td>\n",
              "      <td>0</td>\n",
              "      <td>0</td>\n",
              "      <td>0</td>\n",
              "      <td>0</td>\n",
              "      <td>0</td>\n",
              "      <td>0</td>\n",
              "      <td>0</td>\n",
              "      <td>0</td>\n",
              "      <td>0</td>\n",
              "      <td>0</td>\n",
              "      <td>0</td>\n",
              "      <td>0</td>\n",
              "      <td>0</td>\n",
              "      <td>0</td>\n",
              "      <td>0</td>\n",
              "      <td>0</td>\n",
              "      <td>0</td>\n",
              "      <td>0</td>\n",
              "      <td>0</td>\n",
              "      <td>0</td>\n",
              "      <td>0</td>\n",
              "      <td>0</td>\n",
              "      <td>...</td>\n",
              "      <td>0</td>\n",
              "      <td>0</td>\n",
              "      <td>0</td>\n",
              "      <td>0</td>\n",
              "      <td>0</td>\n",
              "      <td>0</td>\n",
              "      <td>0</td>\n",
              "      <td>0</td>\n",
              "      <td>0</td>\n",
              "      <td>0</td>\n",
              "      <td>0</td>\n",
              "      <td>0</td>\n",
              "      <td>0</td>\n",
              "      <td>0</td>\n",
              "      <td>0</td>\n",
              "      <td>0</td>\n",
              "      <td>0</td>\n",
              "      <td>0</td>\n",
              "      <td>0</td>\n",
              "      <td>0</td>\n",
              "      <td>0</td>\n",
              "      <td>0</td>\n",
              "      <td>0</td>\n",
              "      <td>0</td>\n",
              "      <td>0</td>\n",
              "      <td>0</td>\n",
              "      <td>0</td>\n",
              "      <td>0</td>\n",
              "      <td>0</td>\n",
              "      <td>0</td>\n",
              "      <td>0</td>\n",
              "      <td>0</td>\n",
              "      <td>0</td>\n",
              "      <td>0</td>\n",
              "      <td>0</td>\n",
              "      <td>0</td>\n",
              "      <td>0</td>\n",
              "      <td>0</td>\n",
              "      <td>0</td>\n",
              "      <td>0</td>\n",
              "    </tr>\n",
              "    <tr>\n",
              "      <th>1</th>\n",
              "      <td>0</td>\n",
              "      <td>0</td>\n",
              "      <td>0</td>\n",
              "      <td>0</td>\n",
              "      <td>0</td>\n",
              "      <td>0</td>\n",
              "      <td>0</td>\n",
              "      <td>0</td>\n",
              "      <td>0</td>\n",
              "      <td>0</td>\n",
              "      <td>0</td>\n",
              "      <td>0</td>\n",
              "      <td>0</td>\n",
              "      <td>0</td>\n",
              "      <td>0</td>\n",
              "      <td>0</td>\n",
              "      <td>0</td>\n",
              "      <td>0</td>\n",
              "      <td>0</td>\n",
              "      <td>0</td>\n",
              "      <td>0</td>\n",
              "      <td>0</td>\n",
              "      <td>0</td>\n",
              "      <td>0</td>\n",
              "      <td>0</td>\n",
              "      <td>0</td>\n",
              "      <td>0</td>\n",
              "      <td>0</td>\n",
              "      <td>0</td>\n",
              "      <td>0</td>\n",
              "      <td>0</td>\n",
              "      <td>0</td>\n",
              "      <td>0</td>\n",
              "      <td>0</td>\n",
              "      <td>0</td>\n",
              "      <td>0</td>\n",
              "      <td>0</td>\n",
              "      <td>0</td>\n",
              "      <td>0</td>\n",
              "      <td>0</td>\n",
              "      <td>...</td>\n",
              "      <td>0</td>\n",
              "      <td>0</td>\n",
              "      <td>0</td>\n",
              "      <td>0</td>\n",
              "      <td>0</td>\n",
              "      <td>0</td>\n",
              "      <td>0</td>\n",
              "      <td>0</td>\n",
              "      <td>0</td>\n",
              "      <td>0</td>\n",
              "      <td>0</td>\n",
              "      <td>0</td>\n",
              "      <td>0</td>\n",
              "      <td>0</td>\n",
              "      <td>0</td>\n",
              "      <td>0</td>\n",
              "      <td>0</td>\n",
              "      <td>0</td>\n",
              "      <td>0</td>\n",
              "      <td>0</td>\n",
              "      <td>0</td>\n",
              "      <td>0</td>\n",
              "      <td>0</td>\n",
              "      <td>0</td>\n",
              "      <td>0</td>\n",
              "      <td>0</td>\n",
              "      <td>0</td>\n",
              "      <td>0</td>\n",
              "      <td>0</td>\n",
              "      <td>0</td>\n",
              "      <td>0</td>\n",
              "      <td>0</td>\n",
              "      <td>0</td>\n",
              "      <td>0</td>\n",
              "      <td>0</td>\n",
              "      <td>0</td>\n",
              "      <td>0</td>\n",
              "      <td>0</td>\n",
              "      <td>0</td>\n",
              "      <td>0</td>\n",
              "    </tr>\n",
              "    <tr>\n",
              "      <th>2</th>\n",
              "      <td>0</td>\n",
              "      <td>0</td>\n",
              "      <td>0</td>\n",
              "      <td>0</td>\n",
              "      <td>0</td>\n",
              "      <td>0</td>\n",
              "      <td>0</td>\n",
              "      <td>0</td>\n",
              "      <td>0</td>\n",
              "      <td>0</td>\n",
              "      <td>0</td>\n",
              "      <td>0</td>\n",
              "      <td>0</td>\n",
              "      <td>0</td>\n",
              "      <td>0</td>\n",
              "      <td>0</td>\n",
              "      <td>0</td>\n",
              "      <td>0</td>\n",
              "      <td>0</td>\n",
              "      <td>0</td>\n",
              "      <td>0</td>\n",
              "      <td>0</td>\n",
              "      <td>0</td>\n",
              "      <td>0</td>\n",
              "      <td>0</td>\n",
              "      <td>0</td>\n",
              "      <td>0</td>\n",
              "      <td>0</td>\n",
              "      <td>0</td>\n",
              "      <td>0</td>\n",
              "      <td>0</td>\n",
              "      <td>0</td>\n",
              "      <td>0</td>\n",
              "      <td>0</td>\n",
              "      <td>0</td>\n",
              "      <td>0</td>\n",
              "      <td>0</td>\n",
              "      <td>0</td>\n",
              "      <td>0</td>\n",
              "      <td>0</td>\n",
              "      <td>...</td>\n",
              "      <td>0</td>\n",
              "      <td>0</td>\n",
              "      <td>0</td>\n",
              "      <td>0</td>\n",
              "      <td>0</td>\n",
              "      <td>0</td>\n",
              "      <td>0</td>\n",
              "      <td>0</td>\n",
              "      <td>0</td>\n",
              "      <td>0</td>\n",
              "      <td>0</td>\n",
              "      <td>0</td>\n",
              "      <td>0</td>\n",
              "      <td>0</td>\n",
              "      <td>0</td>\n",
              "      <td>0</td>\n",
              "      <td>0</td>\n",
              "      <td>0</td>\n",
              "      <td>0</td>\n",
              "      <td>0</td>\n",
              "      <td>0</td>\n",
              "      <td>0</td>\n",
              "      <td>0</td>\n",
              "      <td>0</td>\n",
              "      <td>0</td>\n",
              "      <td>0</td>\n",
              "      <td>0</td>\n",
              "      <td>0</td>\n",
              "      <td>0</td>\n",
              "      <td>0</td>\n",
              "      <td>0</td>\n",
              "      <td>0</td>\n",
              "      <td>0</td>\n",
              "      <td>0</td>\n",
              "      <td>0</td>\n",
              "      <td>0</td>\n",
              "      <td>0</td>\n",
              "      <td>0</td>\n",
              "      <td>0</td>\n",
              "      <td>0</td>\n",
              "    </tr>\n",
              "    <tr>\n",
              "      <th>3</th>\n",
              "      <td>0</td>\n",
              "      <td>0</td>\n",
              "      <td>0</td>\n",
              "      <td>0</td>\n",
              "      <td>0</td>\n",
              "      <td>0</td>\n",
              "      <td>0</td>\n",
              "      <td>0</td>\n",
              "      <td>0</td>\n",
              "      <td>0</td>\n",
              "      <td>0</td>\n",
              "      <td>0</td>\n",
              "      <td>0</td>\n",
              "      <td>0</td>\n",
              "      <td>0</td>\n",
              "      <td>0</td>\n",
              "      <td>0</td>\n",
              "      <td>0</td>\n",
              "      <td>0</td>\n",
              "      <td>0</td>\n",
              "      <td>0</td>\n",
              "      <td>0</td>\n",
              "      <td>0</td>\n",
              "      <td>0</td>\n",
              "      <td>0</td>\n",
              "      <td>0</td>\n",
              "      <td>0</td>\n",
              "      <td>0</td>\n",
              "      <td>0</td>\n",
              "      <td>0</td>\n",
              "      <td>0</td>\n",
              "      <td>0</td>\n",
              "      <td>0</td>\n",
              "      <td>0</td>\n",
              "      <td>0</td>\n",
              "      <td>0</td>\n",
              "      <td>0</td>\n",
              "      <td>0</td>\n",
              "      <td>0</td>\n",
              "      <td>0</td>\n",
              "      <td>...</td>\n",
              "      <td>15</td>\n",
              "      <td>0</td>\n",
              "      <td>0</td>\n",
              "      <td>0</td>\n",
              "      <td>0</td>\n",
              "      <td>0</td>\n",
              "      <td>0</td>\n",
              "      <td>0</td>\n",
              "      <td>0</td>\n",
              "      <td>0</td>\n",
              "      <td>0</td>\n",
              "      <td>0</td>\n",
              "      <td>0</td>\n",
              "      <td>0</td>\n",
              "      <td>0</td>\n",
              "      <td>0</td>\n",
              "      <td>0</td>\n",
              "      <td>0</td>\n",
              "      <td>0</td>\n",
              "      <td>0</td>\n",
              "      <td>0</td>\n",
              "      <td>0</td>\n",
              "      <td>0</td>\n",
              "      <td>0</td>\n",
              "      <td>0</td>\n",
              "      <td>0</td>\n",
              "      <td>0</td>\n",
              "      <td>0</td>\n",
              "      <td>0</td>\n",
              "      <td>0</td>\n",
              "      <td>0</td>\n",
              "      <td>0</td>\n",
              "      <td>0</td>\n",
              "      <td>0</td>\n",
              "      <td>0</td>\n",
              "      <td>0</td>\n",
              "      <td>0</td>\n",
              "      <td>0</td>\n",
              "      <td>0</td>\n",
              "      <td>0</td>\n",
              "    </tr>\n",
              "    <tr>\n",
              "      <th>4</th>\n",
              "      <td>0</td>\n",
              "      <td>0</td>\n",
              "      <td>0</td>\n",
              "      <td>0</td>\n",
              "      <td>0</td>\n",
              "      <td>0</td>\n",
              "      <td>0</td>\n",
              "      <td>0</td>\n",
              "      <td>0</td>\n",
              "      <td>0</td>\n",
              "      <td>0</td>\n",
              "      <td>0</td>\n",
              "      <td>0</td>\n",
              "      <td>0</td>\n",
              "      <td>0</td>\n",
              "      <td>0</td>\n",
              "      <td>0</td>\n",
              "      <td>0</td>\n",
              "      <td>0</td>\n",
              "      <td>0</td>\n",
              "      <td>0</td>\n",
              "      <td>0</td>\n",
              "      <td>0</td>\n",
              "      <td>0</td>\n",
              "      <td>0</td>\n",
              "      <td>0</td>\n",
              "      <td>0</td>\n",
              "      <td>0</td>\n",
              "      <td>0</td>\n",
              "      <td>0</td>\n",
              "      <td>0</td>\n",
              "      <td>0</td>\n",
              "      <td>0</td>\n",
              "      <td>0</td>\n",
              "      <td>0</td>\n",
              "      <td>0</td>\n",
              "      <td>0</td>\n",
              "      <td>0</td>\n",
              "      <td>0</td>\n",
              "      <td>0</td>\n",
              "      <td>...</td>\n",
              "      <td>0</td>\n",
              "      <td>0</td>\n",
              "      <td>0</td>\n",
              "      <td>0</td>\n",
              "      <td>0</td>\n",
              "      <td>0</td>\n",
              "      <td>0</td>\n",
              "      <td>0</td>\n",
              "      <td>0</td>\n",
              "      <td>0</td>\n",
              "      <td>0</td>\n",
              "      <td>0</td>\n",
              "      <td>0</td>\n",
              "      <td>0</td>\n",
              "      <td>0</td>\n",
              "      <td>0</td>\n",
              "      <td>0</td>\n",
              "      <td>0</td>\n",
              "      <td>0</td>\n",
              "      <td>0</td>\n",
              "      <td>0</td>\n",
              "      <td>0</td>\n",
              "      <td>0</td>\n",
              "      <td>0</td>\n",
              "      <td>0</td>\n",
              "      <td>0</td>\n",
              "      <td>0</td>\n",
              "      <td>0</td>\n",
              "      <td>0</td>\n",
              "      <td>0</td>\n",
              "      <td>0</td>\n",
              "      <td>0</td>\n",
              "      <td>0</td>\n",
              "      <td>0</td>\n",
              "      <td>0</td>\n",
              "      <td>0</td>\n",
              "      <td>0</td>\n",
              "      <td>0</td>\n",
              "      <td>0</td>\n",
              "      <td>0</td>\n",
              "    </tr>\n",
              "  </tbody>\n",
              "</table>\n",
              "<p>5 rows × 784 columns</p>\n",
              "</div>"
            ],
            "text/plain": [
              "   1    2    3    4    5    6    7    ...  778  779  780  781  782  783  784\n",
              "0    0    0    0    0    0    0    0  ...    0    0    0    0    0    0    0\n",
              "1    0    0    0    0    0    0    0  ...    0    0    0    0    0    0    0\n",
              "2    0    0    0    0    0    0    0  ...    0    0    0    0    0    0    0\n",
              "3    0    0    0    0    0    0    0  ...    0    0    0    0    0    0    0\n",
              "4    0    0    0    0    0    0    0  ...    0    0    0    0    0    0    0\n",
              "\n",
              "[5 rows x 784 columns]"
            ]
          },
          "metadata": {
            "tags": []
          },
          "execution_count": 3
        }
      ]
    },
    {
      "cell_type": "markdown",
      "metadata": {
        "id": "qtUKVe07tRy2",
        "colab_type": "text"
      },
      "source": [
        "####For chechking the balance of our labels let's plot them !"
      ]
    },
    {
      "cell_type": "markdown",
      "metadata": {
        "id": "20ocalOetYZh",
        "colab_type": "text"
      },
      "source": [
        "Train data"
      ]
    },
    {
      "cell_type": "code",
      "metadata": {
        "id": "yAMA5rWfg1ca",
        "colab_type": "code",
        "colab": {
          "base_uri": "https://localhost:8080/",
          "height": 265
        },
        "outputId": "2f25080c-aec7-448c-fe97-7cfcf628921d"
      },
      "source": [
        "y_train.plot(kind = \"hist\", edgecolor = \"black\",xticks=np.arange(10));"
      ],
      "execution_count": null,
      "outputs": [
        {
          "output_type": "display_data",
          "data": {
            "image/png": "[encoded data removed]",
            "text/plain": [
              "<Figure size 432x288 with 1 Axes>"
            ]
          },
          "metadata": {
            "tags": [],
            "needs_background": "light"
          }
        }
      ]
    },
    {
      "cell_type": "markdown",
      "metadata": {
        "id": "AHeN3M1ZthUW",
        "colab_type": "text"
      },
      "source": [
        "Test data"
      ]
    },
    {
      "cell_type": "code",
      "metadata": {
        "id": "erLL53FVfpDL",
        "colab_type": "code",
        "colab": {
          "base_uri": "https://localhost:8080/",
          "height": 265
        },
        "outputId": "a29ed665-95e0-4b5e-dd98-e2ffcc7098dd"
      },
      "source": [
        "y_test.hist(bins = 30, color = \"red\")\n",
        "plt.xticks(range(10))\n",
        "plt.yticks(range(0, 1295, 185));"
      ],
      "execution_count": null,
      "outputs": [
        {
          "output_type": "display_data",
          "data": {
            "image/png": "[encoded data removed]",
            "text/plain": [
              "<Figure size 432x288 with 1 Axes>"
            ]
          },
          "metadata": {
            "tags": [],
            "needs_background": "light"
          }
        }
      ]
    },
    {
      "cell_type": "markdown",
      "metadata": {
        "id": "UxMlc6Gbe4Dw",
        "colab_type": "text"
      },
      "source": [
        "#Now it's time to find the most optimal algorithm with corresponding hyperparameters"
      ]
    },
    {
      "cell_type": "markdown",
      "metadata": {
        "id": "wcoL2Og0j24D",
        "colab_type": "text"
      },
      "source": [
        "<b>As MNIST is somewhat big dataset for using Validation tools (time consuming) we can use a small portion of our DATA"
      ]
    },
    {
      "cell_type": "code",
      "metadata": {
        "id": "YvxcxjTuj2CU",
        "colab_type": "code",
        "colab": {
          "base_uri": "https://localhost:8080/",
          "height": 34
        },
        "outputId": "ce9898a3-640e-4e51-de45-1f4e8b7f6d55"
      },
      "source": [
        "ids2 = np.random.choice(np.arange(10000), 2000) \n",
        "X_train_small, y_train_small = mnist_train.iloc[ids2, 1:], mnist_train.iloc[ids2, 0]\n",
        "ids = np.random.choice(np.arange(10000), 1000) \n",
        "X_test_small, y_test_small = mnist_test.iloc[ids, 1:], mnist_test.iloc[ids, 0]\n",
        "X_train_small.shape"
      ],
      "execution_count": null,
      "outputs": [
        {
          "output_type": "execute_result",
          "data": {
            "text/plain": [
              "(2000, 784)"
            ]
          },
          "metadata": {
            "tags": []
          },
          "execution_count": 6
        }
      ]
    },
    {
      "cell_type": "markdown",
      "metadata": {
        "id": "SguES68pSkAZ",
        "colab_type": "text"
      },
      "source": [
        "###Finding best params for <font color = \"rted\">SupportVectorClassifier </font> and then testing it !"
      ]
    },
    {
      "cell_type": "markdown",
      "metadata": {
        "id": "6riZ13A05qYX",
        "colab_type": "text"
      },
      "source": [
        "**As our data and parameters are too much, let's explore CV (cross-validation) with some parts** \n",
        "\n",
        "1.   Criterion : \"poly\"\n",
        "2.   Criterion : \"rbf\"\n",
        "\n"
      ]
    },
    {
      "cell_type": "markdown",
      "metadata": {
        "id": "bP0zh__c6fj5",
        "colab_type": "text"
      },
      "source": [
        "**Here we consider that <font color = \"djkbjd\">kernel -> Polinomial </font> is the best option and trying to find the best parameters for this assumption.**"
      ]
    },
    {
      "cell_type": "code",
      "metadata": {
        "id": "fvER57pJf5pO",
        "colab_type": "code",
        "colab": {
          "base_uri": "https://localhost:8080/",
          "height": 68
        },
        "outputId": "6adf0f00-a02f-46cd-a252-328a424a46cf"
      },
      "source": [
        "model = SVC()\n",
        "start = time.perf_counter()\n",
        "parameters = {\"kernel\" : [\"poly\"], \"degree\" : [1,2,3], \"C\" : [0.01,0.1,1]}\n",
        "clf = GridSearchCV(model, parameters, scoring = \"accuracy\", cv = 5)  # cv for cross_validation (number of folds)\n",
        "clf.fit(X_train_small, y_train_small)\n",
        "print( \"time taken -> \",time.perf_counter() - start )\n",
        "print(clf.best_params_)\n",
        "clf.score(X_test_small, y_test_small)"
      ],
      "execution_count": null,
      "outputs": [
        {
          "output_type": "stream",
          "text": [
            "time taken ->  168.94133010900077\n",
            "{'C': 1, 'degree': 2, 'kernel': 'poly'}\n"
          ],
          "name": "stdout"
        },
        {
          "output_type": "execute_result",
          "data": {
            "text/plain": [
              "0.931"
            ]
          },
          "metadata": {
            "tags": []
          },
          "execution_count": 12
        }
      ]
    },
    {
      "cell_type": "markdown",
      "metadata": {
        "id": "7JM4yB-H627L",
        "colab_type": "text"
      },
      "source": [
        "**Here we consider that <font color = \"djddndnndjkbkddehebdhekbjd\">kernel -> Radial Basis Function </font> is the best option and trying to find the best parameters for this assumption.**"
      ]
    },
    {
      "cell_type": "code",
      "metadata": {
        "id": "KRUAMJQK5iMk",
        "colab_type": "code",
        "colab": {
          "base_uri": "https://localhost:8080/",
          "height": 68
        },
        "outputId": "cb75c4ef-5518-436e-fd43-f2e075bb1422"
      },
      "source": [
        "model = SVC()\n",
        "start = time.perf_counter()\n",
        "parameters = {\"kernel\" : [\"rbf\"], \"gamma\" : [0.01,0.2,3, 10], \"C\" : [0.01,0.1,1]}\n",
        "clf = GridSearchCV(model, parameters, scoring = \"accuracy\", cv = 5)  # cv for cross_validation (number of folds)\n",
        "clf.fit(X_train_small, y_train_small)\n",
        "print( \"time taken -> \",time.perf_counter() - start )\n",
        "print(clf.best_params_)\n",
        "clf.score(X_test_small, y_test_small)"
      ],
      "execution_count": null,
      "outputs": [
        {
          "output_type": "stream",
          "text": [
            "time taken ->  391.47555653300014\n",
            "{'C': 1, 'gamma': 0.01, 'kernel': 'rbf'}\n"
          ],
          "name": "stdout"
        },
        {
          "output_type": "execute_result",
          "data": {
            "text/plain": [
              "0.121"
            ]
          },
          "metadata": {
            "tags": []
          },
          "execution_count": 19
        }
      ]
    },
    {
      "cell_type": "markdown",
      "metadata": {
        "id": "ntmu2obu7Cyh",
        "colab_type": "text"
      },
      "source": [
        "###We have seen all the possible versions of of SVC and no can apply the one with the highest accuracy on the model with the full Dataset."
      ]
    },
    {
      "cell_type": "code",
      "metadata": {
        "id": "wvx5bhebmXtH",
        "colab_type": "code",
        "colab": {
          "base_uri": "https://localhost:8080/",
          "height": 51
        },
        "outputId": "c807c4fb-ba03-481e-9038-f892ba0d26e2"
      },
      "source": [
        "model = SVC(kernel = \"poly\" , C = 1, degree = 2)\n",
        "start = time.perf_counter()\n",
        "model.fit(X_train, y_train)\n",
        "print( \"time taken -> \",time.perf_counter() - start )\n",
        "svm = model.score(X_test, y_test)\n",
        "svm"
      ],
      "execution_count": null,
      "outputs": [
        {
          "output_type": "stream",
          "text": [
            "time taken ->  86.28551069600007\n"
          ],
          "name": "stdout"
        },
        {
          "output_type": "execute_result",
          "data": {
            "text/plain": [
              "0.9669"
            ]
          },
          "metadata": {
            "tags": []
          },
          "execution_count": 54
        }
      ]
    },
    {
      "cell_type": "markdown",
      "metadata": {
        "id": "EtRljIUU-DfT",
        "colab_type": "text"
      },
      "source": [
        "###It's interesting to have a look at some datapoints which our model did not manage to predict correctly"
      ]
    },
    {
      "cell_type": "markdown",
      "metadata": {
        "id": "65KYxmFYkPLX",
        "colab_type": "text"
      },
      "source": [
        "**1. Let's find the indexes of mispredicted labels** "
      ]
    },
    {
      "cell_type": "code",
      "metadata": {
        "id": "1fqirrQ6-Clp",
        "colab_type": "code",
        "colab": {
          "base_uri": "https://localhost:8080/",
          "height": 238
        },
        "outputId": "18b13ac8-f5c6-42f2-92e6-fc486ca44960"
      },
      "source": [
        "start = time.perf_counter()\n",
        "predictions = model.predict(X_test) # the variable model is responsible for SVC model (yet)\n",
        "print (time.perf_counter() - start )\n",
        "y_test[y_test != predictions]"
      ],
      "execution_count": null,
      "outputs": [
        {
          "output_type": "stream",
          "text": [
            "61.9095700219998\n"
          ],
          "name": "stdout"
        },
        {
          "output_type": "execute_result",
          "data": {
            "text/plain": [
              "8       5\n",
              "124     7\n",
              "241     9\n",
              "245     3\n",
              "247     4\n",
              "       ..\n",
              "9888    6\n",
              "9904    2\n",
              "9905    3\n",
              "9944    3\n",
              "9982    5\n",
              "Name: 0, Length: 331, dtype: int64"
            ]
          },
          "metadata": {
            "tags": []
          },
          "execution_count": 31
        }
      ]
    },
    {
      "cell_type": "markdown",
      "metadata": {
        "id": "-05COtRRkrCp",
        "colab_type": "text"
      },
      "source": [
        "**2. Now let's print some images from them for visualization and then print the actual and predicted labels to see the logic of our model**"
      ]
    },
    {
      "cell_type": "code",
      "metadata": {
        "id": "DpZPvmPXcF_9",
        "colab_type": "code",
        "colab": {
          "base_uri": "https://localhost:8080/",
          "height": 542
        },
        "outputId": "cb1f4032-ea2b-41de-c034-197955b66052"
      },
      "source": [
        "false_indexes = [8,124,241,245,247,9888,9904,9905,9944,9982]\n",
        "k = 0\n",
        "fig = plt.figure(figsize = (8,8))\n",
        "cols, rows = 4,4\n",
        "for i in false_indexes:\n",
        "  k += 1\n",
        "  plt.subplot(4,4,k)\n",
        "  pixel_to_image(X_test.iloc[i, :])   # from left to right, from top to bottom we have the order of datapoints\n",
        "  print((predictions[i], y_test[i]))  # in front of the predicted labels we get the actaul one"
      ],
      "execution_count": null,
      "outputs": [
        {
          "output_type": "stream",
          "text": [
            "(6, 5)\n",
            "(4, 7)\n",
            "(8, 9)\n",
            "(5, 3)\n",
            "(2, 4)\n",
            "(0, 6)\n",
            "(5, 2)\n",
            "(9, 3)\n",
            "(8, 3)\n",
            "(3, 5)\n"
          ],
          "name": "stdout"
        },
        {
          "output_type": "display_data",
          "data": {
            "image/png": "[encoded data removed]",
            "text/plain": [
              "<Figure size 576x576 with 10 Axes>"
            ]
          },
          "metadata": {
            "tags": [],
            "needs_background": "light"
          }
        }
      ]
    },
    {
      "cell_type": "markdown",
      "metadata": {
        "id": "j2qlxCdySWug",
        "colab_type": "text"
      },
      "source": [
        "###Finding best params for <font color = \"oraheg\">DecisionTreeClassifier</font> and then testing it !"
      ]
    },
    {
      "cell_type": "markdown",
      "metadata": {
        "id": "A6ZnPC_K93xI",
        "colab_type": "text"
      },
      "source": [
        "1. **Cross - Validating on mini version of our dataset**"
      ]
    },
    {
      "cell_type": "code",
      "metadata": {
        "id": "yhAgcdjqRugi",
        "colab_type": "code",
        "colab": {
          "base_uri": "https://localhost:8080/",
          "height": 51
        },
        "outputId": "8622f42f-20e1-45ca-8bc5-36ff04b50826"
      },
      "source": [
        "model = DecisionTreeClassifier()\n",
        "start = time.perf_counter()\n",
        "parameters = {\"max_depth\" : np.arange(1, 10), 'min_samples_split' : np.arange(2,10), \"criterion\" : (\"gini\", \"entropy\") }\n",
        "clf = GridSearchCV(model, parameters, scoring = \"accuracy\", cv = 5)\n",
        "clf.fit(X_train_small, y_train_small)\n",
        "print(\"time taken -> \", time.perf_counter() - start )\n",
        "clf.best_params_, clf.score(X_test_small, y_test_small)"
      ],
      "execution_count": null,
      "outputs": [
        {
          "output_type": "stream",
          "text": [
            "time taken ->  172.89654724899992\n"
          ],
          "name": "stdout"
        },
        {
          "output_type": "execute_result",
          "data": {
            "text/plain": [
              "({'criterion': 'gini', 'max_depth': 9, 'min_samples_split': 2}, 0.7)"
            ]
          },
          "metadata": {
            "tags": []
          },
          "execution_count": 18
        }
      ]
    },
    {
      "cell_type": "markdown",
      "metadata": {
        "id": "92GKUI6w9SoV",
        "colab_type": "text"
      },
      "source": [
        "2.  **Creating the model with best_params_ and then fitting the model on original Data**"
      ]
    },
    {
      "cell_type": "code",
      "metadata": {
        "id": "1vDFIkng9RbB",
        "colab_type": "code",
        "colab": {
          "base_uri": "https://localhost:8080/",
          "height": 51
        },
        "outputId": "7f5f434c-9638-4a1b-db13-dad81e65bb9b"
      },
      "source": [
        "model = DecisionTreeClassifier(max_depth = 9, criterion = 'gini' , min_samples_split = 2)\n",
        "start = time.perf_counter()\n",
        "model.fit(X_train, y_train)\n",
        "print (time.perf_counter() - start)\n",
        "tree = model.score(X_test, y_test)\n",
        "model.score(X_test, y_test)"
      ],
      "execution_count": null,
      "outputs": [
        {
          "output_type": "stream",
          "text": [
            "2.542353362999961\n"
          ],
          "name": "stdout"
        },
        {
          "output_type": "execute_result",
          "data": {
            "text/plain": [
              "0.8303"
            ]
          },
          "metadata": {
            "tags": []
          },
          "execution_count": 4
        }
      ]
    },
    {
      "cell_type": "markdown",
      "metadata": {
        "id": "Af95utqZEcWS",
        "colab_type": "text"
      },
      "source": [
        "**We can plot a small part of our tree !**"
      ]
    },
    {
      "cell_type": "code",
      "metadata": {
        "id": "VWUtnHJVDvaO",
        "colab_type": "code",
        "colab": {
          "base_uri": "https://localhost:8080/",
          "height": 324
        },
        "outputId": "6c52fe80-e50e-4d8c-d2e1-5ad52c063dac"
      },
      "source": [
        "from sklearn.tree import export_graphviz\n",
        "from subprocess import call\n",
        "import pydotplus\n",
        "from IPython.display import Image\n",
        "dot_data = export_graphviz(model, out_file=None, max_depth=2,\n",
        "                        feature_names = X_train.columns,\n",
        "                        rounded = True, proportion = True, \n",
        "                        precision = 2, filled = True, impurity = True)\n",
        "\n",
        "# Draw graph\n",
        "graph = pydotplus.graph_from_dot_data(dot_data)  \n",
        "\n",
        "# Show graph\n",
        "Image(graph.create_png())"
      ],
      "execution_count": null,
      "outputs": [
        {
          "output_type": "execute_result",
          "data": {
            "image/png": "[encoded data removed]",
            "text/plain": [
              "<IPython.core.display.Image object>"
            ]
          },
          "metadata": {
            "tags": []
          },
          "execution_count": 8
        }
      ]
    },
    {
      "cell_type": "markdown",
      "metadata": {
        "id": "Ywt32uZgWw0o",
        "colab_type": "text"
      },
      "source": [
        "###We are already familiar with <font color = \"dcbsjk\"> Naive Bayes</font> from text_classification or categorical_data classification"
      ]
    },
    {
      "cell_type": "markdown",
      "metadata": {
        "id": "DrqLuYsM4-Qv",
        "colab_type": "text"
      },
      "source": [
        "1. Let's use <font color = 'hjdebhjsx'>MultinomialNB</font> which considers the frequencies"
      ]
    },
    {
      "cell_type": "code",
      "metadata": {
        "id": "VozCw1n3Wv3l",
        "colab_type": "code",
        "colab": {
          "base_uri": "https://localhost:8080/",
          "height": 51
        },
        "outputId": "9a2984ee-baec-4af9-cd1b-0f4b271373f1"
      },
      "source": [
        "model = MultinomialNB()\n",
        "start = time.perf_counter()\n",
        "clf = GridSearchCV(model, {\"alpha\" : [0.001,0.05,0.1, 0.55, 1]}, scoring = \"accuracy\" , cv = 5)\n",
        "clf.fit(X_train, y_train)\n",
        "print(\"time taken -> \",time.perf_counter() - start)\n",
        "multi = clf.score(X_test, y_test)\n",
        "clf.best_params_, clf.score(X_test, y_test)"
      ],
      "execution_count": null,
      "outputs": [
        {
          "output_type": "stream",
          "text": [
            "time taken ->  10.910145474999808\n"
          ],
          "name": "stdout"
        },
        {
          "output_type": "execute_result",
          "data": {
            "text/plain": [
              "({'alpha': 0.1}, 0.8348)"
            ]
          },
          "metadata": {
            "tags": []
          },
          "execution_count": 72
        }
      ]
    },
    {
      "cell_type": "markdown",
      "metadata": {
        "id": "nZZ88STH5Ll5",
        "colab_type": "text"
      },
      "source": [
        "2. Let's use <font color = 'djnkjdnjdddddddddddddddddd'>BernoulliNB</font>  which considers the occurencies"
      ]
    },
    {
      "cell_type": "code",
      "metadata": {
        "id": "hA4rXMIV38iz",
        "colab_type": "code",
        "colab": {
          "base_uri": "https://localhost:8080/",
          "height": 51
        },
        "outputId": "44d7db94-3770-42f8-da50-679009654c06"
      },
      "source": [
        "model = BernoulliNB()\n",
        "start = time.perf_counter()\n",
        "clf = GridSearchCV(model, {\"alpha\" : [0.001,0.05,0.1, 0.55, 1]}, scoring = \"accuracy\" , cv = 5)\n",
        "clf.fit(X_train, y_train)\n",
        "print(\"time taken -> \",time.perf_counter() - start)\n",
        "berno = clf.score(X_test, y_test)\n",
        "clf.best_params_, clf.score(X_test, y_test)"
      ],
      "execution_count": null,
      "outputs": [
        {
          "output_type": "stream",
          "text": [
            "time taken ->  16.68664582600104\n"
          ],
          "name": "stdout"
        },
        {
          "output_type": "execute_result",
          "data": {
            "text/plain": [
              "({'alpha': 0.001}, 0.8417)"
            ]
          },
          "metadata": {
            "tags": []
          },
          "execution_count": 73
        }
      ]
    },
    {
      "cell_type": "markdown",
      "metadata": {
        "id": "ZyZtgy6Sqjb8",
        "colab_type": "text"
      },
      "source": [
        "<b>To conclude, let's plot the accuracies of 4models and compare them !"
      ]
    },
    {
      "cell_type": "code",
      "metadata": {
        "id": "sG8yeId8pE2n",
        "colab_type": "code",
        "colab": {
          "base_uri": "https://localhost:8080/",
          "height": 292
        },
        "outputId": "8def81c2-c9b7-4916-e4d8-712596a3b6ff"
      },
      "source": [
        "sum_up = pd.DataFrame([berno, multi, tree, svm], index = ['berno', \"multi\", \"tree\", \"svm\"], columns= [\"accuracies\"])\n",
        "sum_up.plot(kind = \"bar\" , edgecolor = \"black\")\n",
        "plt.yticks(np.arange(0,1,0.05 ))\n",
        "plt.xlabel(\"Our models\", color = 'blue')\n",
        "plt.ylabel('Accuracies', color = 'red')\n",
        "plt.title('The conclusion', family = \"serif\" , color = \"darkgreen\")\n",
        "plt.xticks(rotation = \"horizontal\");"
      ],
      "execution_count": null,
      "outputs": [
        {
          "output_type": "display_data",
          "data": {
            "image/png": "[encoded data removed]",
            "text/plain": [
              "<Figure size 432x288 with 1 Axes>"
            ]
          },
          "metadata": {
            "tags": []
          }
        }
      ]
    },
    {
      "cell_type": "markdown",
      "metadata": {
        "id": "8d_H5sJKNzQY",
        "colab_type": "text"
      },
      "source": [
        "##It's time to use more advanced methods <font color = \"hbdhjbedebhjddhjbdjhh4jbehjdbhddheeew\">(e.g. Ensemble Methods)"
      ]
    },
    {
      "cell_type": "markdown",
      "metadata": {
        "id": "dZdmWpFdOF7H",
        "colab_type": "text"
      },
      "source": [
        "Let's start with <ins>*Bagging (Boostsrap AGGragating)* "
      ]
    },
    {
      "cell_type": "code",
      "metadata": {
        "id": "HmznKksjOFHD",
        "colab_type": "code",
        "colab": {
          "base_uri": "https://localhost:8080/",
          "height": 68
        },
        "outputId": "6a9b17ac-0f98-4c4d-f5d1-d85a4a6332d6"
      },
      "source": [
        "from sklearn.ensemble import BaggingClassifier\n",
        "start = time.perf_counter()\n",
        "model = BaggingClassifier(random_state = 0)\n",
        "model.fit(X_train_small, y_train_small)\n",
        "print(f'The error rate of Training is {1-model.score(X_train_small, y_train_small)}')\n",
        "print(f'The error rate of Testing is  {1-model.score(X_test_small, y_test_small)}')\n",
        "print(\"Time taken ->\", time.perf_counter() - start)"
      ],
      "execution_count": null,
      "outputs": [
        {
          "output_type": "stream",
          "text": [
            "The error rate of Training is 0.0024999999999999467\n",
            "The error rate of Testing is  0.15900000000000003\n",
            "Time taken -> 2.029991427999903\n"
          ],
          "name": "stdout"
        }
      ]
    },
    {
      "cell_type": "markdown",
      "metadata": {
        "id": "KU0dserjcxV6",
        "colab_type": "text"
      },
      "source": [
        "####Let's plot the graphs of errors to determine\n",
        "\n",
        "1.   **The minimums of our graphs -> optimal number of models**\n",
        "2.   **Where our model stars to overfit**\n",
        "\n"
      ]
    },
    {
      "cell_type": "code",
      "metadata": {
        "id": "4UOGdjnDaI9d",
        "colab_type": "code",
        "colab": {
          "base_uri": "https://localhost:8080/",
          "height": 295
        },
        "outputId": "c9beff02-4b1c-4b77-c691-07c82ffa5fe8"
      },
      "source": [
        "errors_train = []\n",
        "errors_test = []\n",
        "interval = range(1, 51, 5)\n",
        "for i in interval:\n",
        "  model = BaggingClassifier(n_estimators=i, random_state = 0)\n",
        "  model.fit(X_train_small, y_train_small)\n",
        "  errors_train.append(1 - model.score(X_train_small, y_train_small))\n",
        "  errors_test.append(1 - model.score(X_test_small, y_test_small))\n",
        "plt.plot(interval, errors_train, label = \"Train\")\n",
        "plt.plot(interval, errors_test, label = \"Test\")\n",
        "plt.legend()\n",
        "plt.title(\"Error rate depending on number of models \")\n",
        "plt.xlabel(\"# of models(trees)\")\n",
        "plt.ylabel(\"Error rate\")\n",
        "plt.xticks(interval)\n",
        "plt.show();"
      ],
      "execution_count": null,
      "outputs": [
        {
          "output_type": "display_data",
          "data": {
            "image/png": "[encoded data removed]",
            "text/plain": [
              "<Figure size 432x288 with 1 Axes>"
            ]
          },
          "metadata": {
            "tags": [],
            "needs_background": "light"
          }
        }
      ]
    },
    {
      "cell_type": "markdown",
      "metadata": {
        "id": "VPnXSQPgPSkN",
        "colab_type": "text"
      },
      "source": [
        "***It's easy to notice that starting from 30th tree the error is almost constant so there is no need to take more trees than 31.***"
      ]
    },
    {
      "cell_type": "code",
      "metadata": {
        "id": "6GKE6vjfdfUO",
        "colab_type": "code",
        "colab": {
          "base_uri": "https://localhost:8080/",
          "height": 51
        },
        "outputId": "9622ea89-136d-4c80-cf35-b4e9849bc028"
      },
      "source": [
        "model = BaggingClassifier(n_estimators=31)\n",
        "start = time.perf_counter()\n",
        "model.fit(X_train, y_train)\n",
        "bagging = model.score(X_test,y_test)\n",
        "print(f'The accuracy is {bagging}')\n",
        "print(\"Time taken -> {}\".format(time.perf_counter() - start))\n"
      ],
      "execution_count": null,
      "outputs": [
        {
          "output_type": "stream",
          "text": [
            "The accuracy is 0.933\n",
            "Time taken -> 106.15742869899987\n"
          ],
          "name": "stdout"
        }
      ]
    },
    {
      "cell_type": "markdown",
      "metadata": {
        "id": "gIAnUku8eDaw",
        "colab_type": "text"
      },
      "source": [
        "###Let's pass to <font color = \"hbdehbdehdbheejdvgege\">RandomForest !"
      ]
    },
    {
      "cell_type": "code",
      "metadata": {
        "id": "Kd1xN40hePb2",
        "colab_type": "code",
        "colab": {
          "base_uri": "https://localhost:8080/",
          "height": 68
        },
        "outputId": "64b7ebc8-2eff-4041-ba6b-194e3ede91a7"
      },
      "source": [
        "from sklearn.ensemble import RandomForestClassifier\n",
        "model = RandomForestClassifier()\n",
        "model.fit(X_train_small, y_train_small)\n",
        "print(f'The error rate of Training is {1-model.score(X_train_small, y_train_small)}')\n",
        "print(f'The error rate of Testing is  {1-model.score(X_test_small, y_test_small)}')\n",
        "print(\"Time taken ->\", time.perf_counter() - start)"
      ],
      "execution_count": null,
      "outputs": [
        {
          "output_type": "stream",
          "text": [
            "The error rate of Training is 0.0\n",
            "The error rate of Testing is  0.07599999999999996\n",
            "Time taken -> 163.47840457500024\n"
          ],
          "name": "stdout"
        }
      ]
    },
    {
      "cell_type": "markdown",
      "metadata": {
        "id": "J-gZmYGTtTF7",
        "colab_type": "text"
      },
      "source": [
        "**As we have really promising results <font color = \"ddhjbdjhdhehehek\">(>99%) accuracy </font>on Test Data, we can try to fit the whole data on the model.**"
      ]
    },
    {
      "cell_type": "code",
      "metadata": {
        "id": "GFlJ2goQh6qO",
        "colab_type": "code",
        "colab": {
          "base_uri": "https://localhost:8080/",
          "height": 34
        },
        "outputId": "f6e58e96-91e8-4192-8928-c29f16d015a9"
      },
      "source": [
        "model = RandomForestClassifier(random_state=0)\n",
        "start = time.perf_counter()\n",
        "model.fit(X_train, y_train)\n",
        "print(model.score(X_test, y_test), \"time taken ->\", time.perf_counter() - start) # 0.9604 is very good in 14seconds !"
      ],
      "execution_count": null,
      "outputs": [
        {
          "output_type": "stream",
          "text": [
            "0.9604 time taken -> 14.275254604999645\n"
          ],
          "name": "stdout"
        }
      ]
    },
    {
      "cell_type": "markdown",
      "metadata": {
        "id": "yzo31wxptzqT",
        "colab_type": "text"
      },
      "source": [
        "#####We can check simultaneously two hyperparameters and how the error rate varies !"
      ]
    },
    {
      "cell_type": "code",
      "metadata": {
        "id": "q86OMJG9giYO",
        "colab_type": "code",
        "colab": {
          "base_uri": "https://localhost:8080/",
          "height": 489
        },
        "outputId": "eb739ac7-9516-4fe3-d515-a8d4b401fcfe"
      },
      "source": [
        "plt.style.use('seaborn-whitegrid') # Plot style\n",
        "fig = plt.figure(figsize = (13, 7))\n",
        "size_of_estimators = range(70,151,10)\n",
        "max_features = [50, 100, 250, \"auto\"]\n",
        "start = time.perf_counter()\n",
        "for i in max_features:\n",
        "  h = []\n",
        "  for j in size_of_estimators:\n",
        "    model = RandomForestClassifier(random_state = 0, max_features = i, n_estimators = j)\n",
        "    model.fit(X_train, y_train)\n",
        "    h.append(1 - model.score(X_test, y_test))\n",
        "  plt.plot(size_of_estimators, h, label = i)\n",
        "print(f\"Time taken -> {time.perf_counter() - start}\", \"\\n\")\n",
        "plt.xticks(size_of_estimators)\n",
        "plt.ylabel(\"Error rate\", color = \"red\")\n",
        "plt.xlabel(\"# of trees\", color = \"blue\")\n",
        "plt.title(\"Weak validating lifehack\", family = \"serif\", color = \"darkgreen\" , fontsize = 12)\n",
        "plt.legend(frameon = True, shadow=True)\n",
        "plt.show();"
      ],
      "execution_count": null,
      "outputs": [
        {
          "output_type": "stream",
          "text": [
            "Time taken -> 1871.863131659 \n",
            "\n"
          ],
          "name": "stdout"
        },
        {
          "output_type": "display_data",
          "data": {
            "image/png": "[encoded data removed]",
            "text/plain": [
              "<Figure size 936x504 with 1 Axes>"
            ]
          },
          "metadata": {
            "tags": []
          }
        }
      ]
    },
    {
      "cell_type": "markdown",
      "metadata": {
        "id": "Z-DZREBoCktk",
        "colab_type": "text"
      },
      "source": [
        "Putting final tunned parameters (120 estimators) and get <font color = \"bhjbrfhjr\">0.11 % improvement !"
      ]
    },
    {
      "cell_type": "code",
      "metadata": {
        "id": "r5VMNG7Uuy4o",
        "colab_type": "code",
        "colab": {
          "base_uri": "https://localhost:8080/",
          "height": 34
        },
        "outputId": "37390859-68e0-478b-f58a-74c01fef1b67"
      },
      "source": [
        "model = RandomForestClassifier(random_state=0, n_estimators = 120 , max_features=\"auto\")\n",
        "start = time.perf_counter()\n",
        "model.fit(X_train, y_train)\n",
        "randomforest = model.score(X_test, y_test)\n",
        "print(randomforest, \"time taken ->\", time.perf_counter() - start) # 0.9615 instead of 0.9604 !"
      ],
      "execution_count": null,
      "outputs": [
        {
          "output_type": "stream",
          "text": [
            "0.9615 time taken -> 16.774135535000823\n"
          ],
          "name": "stdout"
        }
      ]
    },
    {
      "cell_type": "markdown",
      "metadata": {
        "id": "v9sNX8AOpsSw",
        "colab_type": "text"
      },
      "source": [
        "###Finally, <font color = \"jqqqqqff\">AdaBoost !"
      ]
    },
    {
      "cell_type": "code",
      "metadata": {
        "id": "nw3_mYVvqBw3",
        "colab_type": "code",
        "colab": {
          "base_uri": "https://localhost:8080/",
          "height": 51
        },
        "outputId": "dabbf9a8-1ff4-4288-d8b3-a357b7e64768"
      },
      "source": [
        "from sklearn.ensemble import AdaBoostClassifier\n",
        "model = AdaBoostClassifier()\n",
        "start = time.perf_counter()\n",
        "model.fit(X_train_small, y_train_small)\n",
        "print(f'The accuracy -> {model.score(X_test_small, y_test_small)}')\n",
        "print(f'Time taken -> {time.perf_counter() - start}')"
      ],
      "execution_count": null,
      "outputs": [
        {
          "output_type": "stream",
          "text": [
            "The accuracy -> 0.455\n",
            "Time taken -> 2.24024384599943\n"
          ],
          "name": "stdout"
        }
      ]
    },
    {
      "cell_type": "markdown",
      "metadata": {
        "id": "FEwZ_vzaq_ho",
        "colab_type": "text"
      },
      "source": [
        "**We get worse than random guessing. Need to tune some parameters !**"
      ]
    },
    {
      "cell_type": "code",
      "metadata": {
        "id": "-PVIU33Hr6mB",
        "colab_type": "code",
        "colab": {
          "base_uri": "https://localhost:8080/",
          "height": 312
        },
        "outputId": "4b16b62d-d1c6-48aa-fc8e-31686ec9ac95"
      },
      "source": [
        "errors_train = []\n",
        "errors_test = []\n",
        "interval = range(11, 151, 10)\n",
        "start = time.perf_counter()\n",
        "for i in interval:\n",
        "  model = AdaBoostClassifier(n_estimators=i)\n",
        "  model.fit(X_train, y_train)\n",
        "  errors_train.append(1 - model.score(X_train, y_train))\n",
        "  errors_test.append(1 - model.score(X_test, y_test))\n",
        "plt.plot(interval, errors_train, label = \"Train\")\n",
        "plt.plot(interval, errors_test, label = \"Test\")\n",
        "print(f'Time taken-> {time.perf_counter() - start }')\n",
        "plt.legend()\n",
        "plt.title(\"Error rate depending on number of models \", color = \"darkgreen\", family = \"serif\" , fontsize = 12)\n",
        "plt.xlabel(\"# of models(trees)\", color = \"red\")\n",
        "plt.ylabel(\"Error rate\", color = \"purple\")\n",
        "plt.xticks(interval)\n",
        "plt.show();"
      ],
      "execution_count": null,
      "outputs": [
        {
          "output_type": "stream",
          "text": [
            "Time taken-> 445.4981401919995\n"
          ],
          "name": "stdout"
        },
        {
          "output_type": "display_data",
          "data": {
            "image/png": "[encoded data removed]",
            "text/plain": [
              "<Figure size 432x288 with 1 Axes>"
            ]
          },
          "metadata": {
            "tags": [],
            "needs_background": "light"
          }
        }
      ]
    },
    {
      "cell_type": "markdown",
      "metadata": {
        "id": "8xH-gSd31M2r",
        "colab_type": "text"
      },
      "source": [
        "No we can improve our model !"
      ]
    },
    {
      "cell_type": "code",
      "metadata": {
        "id": "79s_MijAxjU5",
        "colab_type": "code",
        "colab": {
          "base_uri": "https://localhost:8080/",
          "height": 68
        },
        "outputId": "b4892433-ad67-48e0-cd89-ad2ab607b3ea"
      },
      "source": [
        "model = AdaBoostClassifier(n_estimators=81)\n",
        "start = time.perf_counter()\n",
        "model.fit(X_train, y_train)\n",
        "adaboost = model.score(X_test, y_test)\n",
        "print(\"The Train Accuracy is {}\".format(model.score(X_train, y_train)))\n",
        "print(\"The Test Accuracy is {}\".format(adaboost))\n",
        "print(f'Time taken -> {time.perf_counter() - start}')"
      ],
      "execution_count": null,
      "outputs": [
        {
          "output_type": "stream",
          "text": [
            "The Train Accuracy is 0.7416\n",
            "The Test Accuracy is 0.7512\n",
            "Time taken -> 33.66312524999921\n"
          ],
          "name": "stdout"
        }
      ]
    },
    {
      "cell_type": "markdown",
      "metadata": {
        "id": "z_nsNmPwuJjg",
        "colab_type": "text"
      },
      "source": [
        "<b>Remember that AdaBoost is effiecent for binary classification ! </b>\n",
        "\n",
        "If you are interested in the details of Multi-class Adaboost, you can learn about it from the source [article](http://ww.web.stanford.edu/~hastie/Papers/SII-2-3-A8-Zhu.pdf)."
      ]
    },
    {
      "cell_type": "markdown",
      "metadata": {
        "id": "YitA5O2yDL4B",
        "colab_type": "text"
      },
      "source": [
        "##Time for final comparing"
      ]
    },
    {
      "cell_type": "markdown",
      "metadata": {
        "id": "5AIB-sUOHVW2",
        "colab_type": "text"
      },
      "source": [
        "1. **Let's test <font color = \"fnkfrrfnfbhjbfhrjedbhrffrr44\">ensemble methods !**"
      ]
    },
    {
      "cell_type": "code",
      "metadata": {
        "id": "3Qojm67cDLJq",
        "colab_type": "code",
        "colab": {
          "base_uri": "https://localhost:8080/",
          "height": 262
        },
        "outputId": "b5d59f0d-ca1e-44a8-a8d3-6a6b44d3ab2c"
      },
      "source": [
        "target2 = [bagging, randomforest, adaboost]\n",
        "X = pd.DataFrame(target2, index = [\"bagging\", \"randomforest\", \"adaboost\"], columns = [\"accuracy2\"])\n",
        "X.plot(kind = \"bar\", edgecolor = \"black\", color = \"red\")\n",
        "plt.yticks(np.arange(0,1,0.05))\n",
        "plt.xticks(rotation = \"horizontal\");\n"
      ],
      "execution_count": null,
      "outputs": [
        {
          "output_type": "display_data",
          "data": {
            "image/png": "[encoded data removed]",
            "text/plain": [
              "<Figure size 432x288 with 1 Axes>"
            ]
          },
          "metadata": {
            "tags": []
          }
        }
      ]
    },
    {
      "cell_type": "markdown",
      "metadata": {
        "id": "NaexRXWqP6my",
        "colab_type": "text"
      },
      "source": [
        "2. **Capture the whole image !**"
      ]
    },
    {
      "cell_type": "code",
      "metadata": {
        "id": "xooTN96DH-7e",
        "colab_type": "code",
        "colab": {
          "base_uri": "https://localhost:8080/",
          "height": 327
        },
        "outputId": "184866ff-9505-4227-9925-80e8fc77a722"
      },
      "source": [
        "fig = plt.figure(figsize = (10,100))\n",
        "target1 = np.array(sum_up[\"accuracies\"])\n",
        "target2 = np.array(target2)\n",
        "total_accuracies = np.concatenate((target1, target2))\n",
        "index = np.concatenate((sum_up.index, X.index))\n",
        "Finals = pd.DataFrame(total_accuracies, index = index, columns = [\"accuracy\"])\n",
        "Finals.plot(kind = \"bar\", color = \"green\", edgecolor = \"black\")\n",
        "plt.yticks(np.arange(0,1,0.05));\n"
      ],
      "execution_count": null,
      "outputs": [
        {
          "output_type": "display_data",
          "data": {
            "text/plain": [
              "<Figure size 720x7200 with 0 Axes>"
            ]
          },
          "metadata": {
            "tags": []
          }
        },
        {
          "output_type": "display_data",
          "data": {
            "image/png": "[encoded data removed]",
            "text/plain": [
              "<Figure size 432x288 with 1 Axes>"
            ]
          },
          "metadata": {
            "tags": []
          }
        }
      ]
    },
    {
      "cell_type": "markdown",
      "metadata": {
        "id": "19VgFKvdL53w",
        "colab_type": "text"
      },
      "source": [
        "<b>Now we can conclude that the top 3 ML algorithms </b>(*we are familiar with*)<b> on MNIST dataset are</b>\n",
        "\n",
        "1.   <font color = \"red\">  *SVM* </font> -> <ins>0.9669</ins>\n",
        "2.   <font color = \"blue\">  *RandomForest*</font> -> <ins>0.9615</ins>\n",
        "3.   <font color = \"orange\">  *Bagging*</font> -> <ins>0.9330</ins>\n"
      ]
    }
  ]
}